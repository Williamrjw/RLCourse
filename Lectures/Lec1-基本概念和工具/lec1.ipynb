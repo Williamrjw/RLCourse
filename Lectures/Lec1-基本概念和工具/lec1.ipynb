{
 "cells": [
  {
   "cell_type": "code",
   "execution_count": 1,
   "metadata": {},
   "outputs": [
    {
     "name": "stdout",
     "output_type": "stream",
     "text": [
      "tensor([[-3.0772e-06,  9.7951e-43, -3.0772e-06],\n",
      "        [ 9.7951e-43, -3.0772e-06,  9.7951e-43],\n",
      "        [-3.0772e-06,  9.7951e-43, -3.0772e-06],\n",
      "        [ 9.7951e-43, -3.0772e-06,  9.7951e-43],\n",
      "        [-3.0772e-06,  9.7951e-43, -3.0772e-06]])\n",
      "test\n"
     ]
    }
   ],
   "source": [
    "import torch\n",
    "x = torch.empty(5, 3)\n",
    "print(x)\n",
    "print(\"test\")"
   ]
  },
  {
   "cell_type": "code",
   "execution_count": null,
   "metadata": {},
   "outputs": [],
   "source": []
  }
 ],
 "metadata": {
  "kernelspec": {
   "display_name": "DRLHandon",
   "language": "python",
   "name": "drlhandon"
  },
  "language_info": {
   "codemirror_mode": {
    "name": "ipython",
    "version": 3
   },
   "file_extension": ".py",
   "mimetype": "text/x-python",
   "name": "python",
   "nbconvert_exporter": "python",
   "pygments_lexer": "ipython3",
   "version": "3.8.13"
  },
  "orig_nbformat": 4,
  "vscode": {
   "interpreter": {
    "hash": "4c639cde6c7918848f7b0500ee725e1416b5201cd9b02f2f15a267bcda886d0a"
   }
  }
 },
 "nbformat": 4,
 "nbformat_minor": 2
}
