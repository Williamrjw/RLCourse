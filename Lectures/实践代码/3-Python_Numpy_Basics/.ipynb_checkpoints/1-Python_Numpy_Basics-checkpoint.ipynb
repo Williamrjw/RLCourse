{
 "cells": [
  {
   "cell_type": "markdown",
   "metadata": {},
   "source": [
    "# python与numpy基础"
   ]
  },
  {
   "cell_type": "markdown",
   "metadata": {},
   "source": [
    "人生苦短，我用Python！"
   ]
  },
  {
   "cell_type": "markdown",
   "metadata": {},
   "source": [
    "## 1 Python介绍"
   ]
  },
  {
   "cell_type": "markdown",
   "metadata": {},
   "source": [
    "Python语言的优点：<br>\n",
    "- 类似伪代码的书写方式，让你能够集中精力去解决问题，而不是花费大量的时间在开发和debug上<br>\n",
    "- 得益于Numpy/Scipy这样的科学计算库，使得其有非常高效和简易的科学计算能力。<br>\n",
    "- 活跃的社区提供的各种可视化的库，也使得 机器学习/数据挖掘 的全过程(数据采集，数据清洗，数据处理，建模，可视化)可以非常流畅地完成。<br>\n",
    "- 近年来极其热门的深度学习开源框架，基本都有python接口，Tensorflow和PyTorch更是python主导。"
   ]
  },
  {
   "cell_type": "markdown",
   "metadata": {},
   "source": [
    "这个教程里面的内容包括：\n",
    "\n",
    "* 基本Python语法: 基本数据类型 (Containers, Lists, Dictionaries, Sets, Tuples), 函数, 类\n",
    "* Numpy: Arrays/数组, Array indexing/数组取值, Datatypes, Array math, Broadcasting"
   ]
  },
  {
   "cell_type": "markdown",
   "metadata": {},
   "source": [
    "## 2 基本python语法"
   ]
  },
  {
   "cell_type": "markdown",
   "metadata": {},
   "source": [
    "### 2.1 基本数据类型"
   ]
  },
  {
   "cell_type": "markdown",
   "metadata": {},
   "source": [
    "#### 数值型"
   ]
  },
  {
   "cell_type": "markdown",
   "metadata": {},
   "source": [
    "整型和浮点型以及基本的运算大家应该都知道："
   ]
  },
  {
   "cell_type": "code",
   "execution_count": 1,
   "metadata": {
    "scrolled": true
   },
   "outputs": [
    {
     "name": "stdout",
     "output_type": "stream",
     "text": [
      "4 <class 'int'>\n"
     ]
    }
   ],
   "source": [
    "x = 4\n",
    "print(x, type(x)) # 将变量的值和类型打印出来"
   ]
  },
  {
   "cell_type": "code",
   "execution_count": 2,
   "metadata": {},
   "outputs": [
    {
     "name": "stdout",
     "output_type": "stream",
     "text": [
      "5\n",
      "3\n",
      "8\n",
      "16\n",
      "5\n",
      "10\n"
     ]
    }
   ],
   "source": [
    "print(x + 1)   # 加\n",
    "print(x - 1)   # 减\n",
    "print(x * 2)  # 乘\n",
    "print(x ** 2)  # 指数\n",
    "x += 1\n",
    "print(x)  # 自加\n",
    "x *= 2\n",
    "print(x)  # 自乘"
   ]
  },
  {
   "cell_type": "markdown",
   "metadata": {},
   "source": [
    "#### 布尔型"
   ]
  },
  {
   "cell_type": "markdown",
   "metadata": {},
   "source": [
    "用于指定真假的类型，布尔型，包含真（True）和假（False）:"
   ]
  },
  {
   "cell_type": "code",
   "execution_count": 3,
   "metadata": {},
   "outputs": [
    {
     "name": "stdout",
     "output_type": "stream",
     "text": [
      "<class 'bool'>\n",
      "False\n",
      "True\n",
      "False\n",
      "True\n",
      "是的： True\n"
     ]
    }
   ],
   "source": [
    "t, f = True, False\n",
    "print(type(t)) \n",
    "\n",
    "# 看看逻辑与或非这些操作\n",
    "print(t and f) # 逻辑\"与\"\n",
    "print(t or f)  # 逻辑\"或\"\n",
    "print(not t)   # 逻辑\"非\"\n",
    "print(t != f)  # 判断\n",
    "\n",
    "# 不等于0的数对应True, 0对应False\n",
    "b = -1\n",
    "s = \"True\" if b else \"False\"\n",
    "print(\"是的：\", s)"
   ]
  },
  {
   "cell_type": "markdown",
   "metadata": {},
   "source": [
    "#### 字符串型"
   ]
  },
  {
   "cell_type": "code",
   "execution_count": 4,
   "metadata": {},
   "outputs": [
    {
     "name": "stdout",
     "output_type": "stream",
     "text": [
      "你好，你是我今天遇到的第100个人！\n",
      "你好，你是我今天遇到的第100.123个人！\n",
      "你好，你是我今天遇到的第100.12个人！\n"
     ]
    }
   ],
   "source": [
    "# 就介绍怎么格式化输出吧，其他的RL里面用的不多\n",
    "x = 100\n",
    "f = 100.123\n",
    "print(f'你好，你是我今天遇到的第{x}个人！')\n",
    "print('你好，你是我今天遇到的第{}个人！'.format(f))\n",
    "print('你好，你是我今天遇到的第%.2f个人！'%f) #控制小数点位数"
   ]
  },
  {
   "cell_type": "markdown",
   "metadata": {},
   "source": [
    "### 2.2 容器"
   ]
  },
  {
   "cell_type": "markdown",
   "metadata": {},
   "source": [
    "Python中的容器真的是太好用了，包括: 列表lists,字典dictionaries,集合sets,对tuples。"
   ]
  },
  {
   "cell_type": "markdown",
   "metadata": {},
   "source": [
    "#### Lists/列表"
   ]
  },
  {
   "cell_type": "markdown",
   "metadata": {},
   "source": [
    "创建、访问、修改、添加、去除"
   ]
  },
  {
   "cell_type": "code",
   "execution_count": 5,
   "metadata": {},
   "outputs": [
    {
     "name": "stdout",
     "output_type": "stream",
     "text": [
      "[3, 1, 2] 2\n",
      "2\n",
      "[3, 1, 'I Love']\n",
      "[3, 1, 'I Love', 'Pthon']\n",
      "[3, 1, 'I Love'] Pthon\n"
     ]
    }
   ],
   "source": [
    "x = [3, 1, 2]   # 建一个列表\n",
    "print(x, x[2])\n",
    "print(x[-1])     # 用-1表示最后一个元素，输出来\n",
    "\n",
    "x[2] = 'I Love'    # 有意思的是，Python的list居然可以有不同类型的元素\n",
    "print(x)\n",
    "\n",
    "x.append('Pthon')\n",
    "print(x)\n",
    "\n",
    "x_last = x.pop()     # 也可以把最后一个元素“弹射”出来\n",
    "print(x, x_last)"
   ]
  },
  {
   "cell_type": "markdown",
   "metadata": {},
   "source": [
    "切片"
   ]
  },
  {
   "cell_type": "code",
   "execution_count": 6,
   "metadata": {},
   "outputs": [
    {
     "name": "stdout",
     "output_type": "stream",
     "text": [
      "[0, 1, 2, 3, 4]\n",
      "[2, 3]\n",
      "[2, 3, 4]\n",
      "[0, 1]\n",
      "[0, 1, 2, 3, 4]\n",
      "[0, 1, 2, 3]\n",
      "[0, 1, 8, 9, 4]\n",
      "强化\n",
      "学习\n",
      "学起来！\n",
      "#1: 强化\n",
      "#2: 学习\n",
      "#3: 学起来！\n"
     ]
    }
   ],
   "source": [
    "nums = [0, 1, 2, 3, 4]    # 0-4\n",
    "print(nums)         # 输出 \"[0, 1, 2, 3, 4]\"\n",
    "print(nums[2:4])    # 下标2到4(不包括)的元素，注意下标从0开始\n",
    "print(nums[2:])     # 下标2到结尾的元素; prints \"[2, 3, 4]\"\n",
    "print(nums[:2])     # 直到下标2的元素; prints \"[0, 1]\"\n",
    "print(nums[:])      # Get a slice of the whole list; prints [\"0, 1, 2, 3, 4]\"\n",
    "print(nums[:-1])    # 直到倒数第一个元素; prints [\"0, 1, 2, 3]\"\n",
    "nums[2:4] = [8, 9] # 也可以直接这么赋值\n",
    "print(nums)         # Prints \"[0, 1, 8, 8, 4]\"\n",
    "\n",
    "# 可以对list立面的元素做一个循环:\n",
    "slogan = ['强化', '学习', '学起来！']\n",
    "for word in slogan:\n",
    "    print(word)\n",
    "    \n",
    "# 又要输出元素，又要输出下标怎么办，用 enumerate 函数:\n",
    "for idx, word in enumerate(slogan):\n",
    "    print('#%d: %s' % (idx + 1, word))"
   ]
  },
  {
   "cell_type": "markdown",
   "metadata": {},
   "source": [
    "#### for循环的简单写法(List comprehensions): 这个非常好用，写出来的代码很简洁"
   ]
  },
  {
   "cell_type": "markdown",
   "metadata": {},
   "source": [
    "如果对list里面的元素都做一样的操作，然后生成一个list，很方便，甚至可以说是Python语言的标志之一。"
   ]
  },
  {
   "cell_type": "code",
   "execution_count": 7,
   "metadata": {},
   "outputs": [
    {
     "name": "stdout",
     "output_type": "stream",
     "text": [
      "[0, 1, 64, 81, 16]\n",
      "[0, 1, 64, 81, 16]\n",
      "[1, 81]\n"
     ]
    }
   ],
   "source": [
    "# 求一个list里面的元素的平方，然后输出\n",
    "x = [0, 1, 2, 3, 4]\n",
    "squares = []\n",
    "for x_i in nums:  # 很out的for循环写法\n",
    "    squares.append(x_i ** 2)\n",
    "print(squares)\n",
    "\n",
    "squares1 = [x ** 2 for x in nums]  # 对每个x完成一个操作以后返回来，组成新的list\n",
    "print(squares1)\n",
    "\n",
    "# 还可以加条件，去筛出你想要的元素，去做你想要的操作。\n",
    "x = [0, 1, 2, 3, 4]\n",
    "odd_squares = [x ** 2 for x in nums if x % 2 == 1]  # 把所有的偶数取出来，平方后返回\n",
    "print(odd_squares)"
   ]
  },
  {
   "cell_type": "markdown",
   "metadata": {},
   "source": [
    "#### 字典"
   ]
  },
  {
   "cell_type": "markdown",
   "metadata": {},
   "source": [
    "存储键值对(key => value)的数据结构, 使用频度相当高。"
   ]
  },
  {
   "cell_type": "code",
   "execution_count": 8,
   "metadata": {
    "scrolled": true
   },
   "outputs": [
    {
     "name": "stdout",
     "output_type": "stream",
     "text": [
      "吃鱼\n",
      "True\n"
     ]
    }
   ],
   "source": [
    "d = {'猫': '吃鱼', '狗': '玩球'}  # 建立字典\n",
    "print(d['猫'])       # 根据key取value\n",
    "print('猫' in d)     # 查一个元素是否在字典中"
   ]
  },
  {
   "cell_type": "code",
   "execution_count": 9,
   "metadata": {},
   "outputs": [
    {
     "name": "stdout",
     "output_type": "stream",
     "text": [
      "英文名是cat\n"
     ]
    }
   ],
   "source": [
    "d['猫'] = '英文名是cat'    # 设定键值对\n",
    "print(d['猫'])      # 这时候肯定是输出修改后的内容"
   ]
  },
  {
   "cell_type": "markdown",
   "metadata": {
    "scrolled": true
   },
   "source": [
    "如果输入字典的key不存在，则会报错，导致程序崩溃。"
   ]
  },
  {
   "cell_type": "markdown",
   "metadata": {},
   "source": [
    "<font color='blue'>为此，这里介绍一种特殊的字典类型：默认字典。后面实现表格型强化学习算法（MC，Sarsa，Q-learning）会用到。它是在collections库中定义和实现的，使用下面这条语句即可导入这个工具：</font>"
   ]
  },
  {
   "cell_type": "code",
   "execution_count": 15,
   "metadata": {},
   "outputs": [],
   "source": [
    "from collections import defaultdict  # 一种字典，可以当索引不存在的时候可以用默认的函数创建元素"
   ]
  },
  {
   "cell_type": "code",
   "execution_count": 24,
   "metadata": {},
   "outputs": [
    {
     "name": "stdout",
     "output_type": "stream",
     "text": [
      "Q[1]: [0. 0.]\n",
      "length of Q:  1\n",
      "Q[2]: [0. 0.]\n",
      "length of Q:  2\n"
     ]
    }
   ],
   "source": [
    "Q = defaultdict(lambda: np.zeros(2)) # Q中的每个元都初始化为[0,0],（初次访问的时候初始化）\n",
    "print('Q[1]:', Q[1])\n",
    "print('length of Q: ',len(Q))\n",
    "print('Q[2]:', Q[2])\n",
    "print('length of Q: ',len(Q))"
   ]
  },
  {
   "cell_type": "markdown",
   "metadata": {},
   "source": [
    "你可以这样循环python字典取出你想要的内容:"
   ]
  },
  {
   "cell_type": "markdown",
   "metadata": {},
   "source": [
    "#### Sets/集合"
   ]
  },
  {
   "cell_type": "markdown",
   "metadata": {},
   "source": [
    "你可以理解成没有相同元素的列表（当然，显然和list是不同的）:"
   ]
  },
  {
   "cell_type": "code",
   "execution_count": null,
   "metadata": {},
   "outputs": [],
   "source": [
    "animals = {'猫', '狗'}\n",
    "print('猫' in animals)\n",
    "print('鱼' in animals)\n",
    "\n",
    "animals.add('鱼')      # 添加元素\n",
    "print('鱼' in animals)\n",
    "print(len(animals))       # 元素个数"
   ]
  },
  {
   "cell_type": "markdown",
   "metadata": {},
   "source": [
    "其实，set最主要的特性是元素没有重复的，那么可以用它去重。"
   ]
  },
  {
   "cell_type": "code",
   "execution_count": null,
   "metadata": {},
   "outputs": [],
   "source": [
    "x = [1, 1, 2, 2, 3, 3]\n",
    "y = set(x)\n",
    "\n",
    "print(x, ' => ',y)"
   ]
  },
  {
   "cell_type": "markdown",
   "metadata": {},
   "source": [
    "循环遍历set的方式和list很像啦:"
   ]
  },
  {
   "cell_type": "code",
   "execution_count": null,
   "metadata": {},
   "outputs": [],
   "source": [
    "animals = {'猫', '狗', '鱼'}\n",
    "for idx, animal in enumerate(animals):\n",
    "    print('#%d: %s' % (idx + 1, animal))"
   ]
  },
  {
   "cell_type": "markdown",
   "metadata": {},
   "source": [
    "#### 元组"
   ]
  },
  {
   "cell_type": "markdown",
   "metadata": {},
   "source": [
    "和list很像，但是可以作为字典的key或者set的元素出现，但是一整个list不可以作为字典的key或者set的元素的。"
   ]
  },
  {
   "cell_type": "code",
   "execution_count": 56,
   "metadata": {
    "scrolled": true
   },
   "outputs": [
    {
     "name": "stdout",
     "output_type": "stream",
     "text": [
      "<class 'tuple'>\n",
      "('age', 1) age\n"
     ]
    }
   ],
   "source": [
    "x = ('age', 1)  # 创建一个tuple\n",
    "print(type(x))\n",
    "print(x, x[0])  # tuple可以用索引访问元素\n",
    "\n",
    "# 但有有时候想让访问元素的时候更加清晰明确，就会使用namedtuple这个工具\n",
    "\n"
   ]
  },
  {
   "cell_type": "markdown",
   "metadata": {},
   "source": [
    "### 2.3 函数"
   ]
  },
  {
   "cell_type": "markdown",
   "metadata": {},
   "source": [
    "用 `def` 就可以定义一个函数，就像下面这样:"
   ]
  },
  {
   "cell_type": "code",
   "execution_count": 25,
   "metadata": {},
   "outputs": [
    {
     "name": "stdout",
     "output_type": "stream",
     "text": [
      "negative\n",
      "zero\n",
      "positive\n"
     ]
    }
   ],
   "source": [
    "def sign(x):\n",
    "    if x > 0:\n",
    "        return 'positive'\n",
    "    elif x < 0:\n",
    "        return 'negative'\n",
    "    else:\n",
    "        return 'zero'\n",
    "\n",
    "for x in [-1, 0, 1]:\n",
    "    print(sign(x))"
   ]
  },
  {
   "cell_type": "markdown",
   "metadata": {},
   "source": [
    "函数名字后面接的括号里，可以有很多个参数，并且可以给参数设定默认值。"
   ]
  },
  {
   "cell_type": "code",
   "execution_count": 28,
   "metadata": {},
   "outputs": [
    {
     "name": "stdout",
     "output_type": "stream",
     "text": [
      "你好, Bob!\n",
      "你好, ALICE！\n"
     ]
    }
   ],
   "source": [
    "def hello(name, loud=False): # 参数loud的默认值是False，调用函数的时候可以不指定该参数的值\n",
    "    if loud:\n",
    "        print('你好, %s！' % name.upper())\n",
    "    else:\n",
    "        print('你好, %s!' % name)\n",
    "\n",
    "hello('Bob')\n",
    "hello('Alice', loud=True)"
   ]
  },
  {
   "cell_type": "markdown",
   "metadata": {},
   "source": [
    "### 2.4 类"
   ]
  },
  {
   "cell_type": "markdown",
   "metadata": {},
   "source": [
    "Python的类，怎么说呢，比较简单粗暴:"
   ]
  },
  {
   "cell_type": "code",
   "execution_count": null,
   "metadata": {},
   "outputs": [],
   "source": [
    "class Person:\n",
    "    \"\"\"定义一个Person类，包含name和age两个属性，以及用于信息确认的函数confirm()\"\"\"\n",
    "\n",
    "    # 构造函数\n",
    "    def __init__(self, name, age=18):\n",
    "        self.name = name  # 属性\n",
    "        self.age = age\n",
    "        \n",
    "    # 类的成员函数\n",
    "    def confirm(self):\n",
    "        print(self.name, self.age)\n",
    "        \n",
    "Bob = Person('Bob')  # 实例化Person类，创建Bob这个人\n",
    "Bob.confirm()\n",
    "\n",
    "Alice = Person('Alice', age=17)\n",
    "Alice.confirm()"
   ]
  },
  {
   "cell_type": "markdown",
   "metadata": {},
   "source": [
    "## 3 Numpy"
   ]
  },
  {
   "cell_type": "markdown",
   "metadata": {},
   "source": [
    "接下来要开始接触高效计算库Numpy了，之前用过MATLAB的同学，会发现Numpy和它长得不要太像，使用简单高效。参考文档可以看[这里](http://wiki.scipy.org/NumPy_for_Matlab_Users)。"
   ]
  },
  {
   "cell_type": "markdown",
   "metadata": {},
   "source": [
    "使用下面的语句调用Numpy计算库"
   ]
  },
  {
   "cell_type": "code",
   "execution_count": 47,
   "metadata": {},
   "outputs": [],
   "source": [
    "import numpy as np  # 引入numpy包并重新命名为np"
   ]
  },
  {
   "cell_type": "markdown",
   "metadata": {},
   "source": [
    "### 3.1 Arrays/数组"
   ]
  },
  {
   "cell_type": "markdown",
   "metadata": {},
   "source": [
    "数组可以是一维的、二维的、三维的...下面的几个语句实现了从list创建array"
   ]
  },
  {
   "cell_type": "code",
   "execution_count": 50,
   "metadata": {
    "scrolled": true
   },
   "outputs": [
    {
     "name": "stdout",
     "output_type": "stream",
     "text": [
      "类型： <class 'numpy.ndarray'> 形状： (3,) 各个元素的值： 1 2 3\n",
      "更新后的值： [5 2 3]\n"
     ]
    }
   ],
   "source": [
    "a = np.array([1, 2, 3])  # 1维数组\n",
    "print(\"类型：\",type(a), \"形状：\",a.shape, \"各个元素的值：\",a[0], a[1], a[2])\n",
    "\n",
    "a[0] = 5                 # 对某个元素重新赋值\n",
    "print(\"更新后的值：\", a)      "
   ]
  },
  {
   "cell_type": "code",
   "execution_count": 51,
   "metadata": {
    "scrolled": true
   },
   "outputs": [
    {
     "name": "stdout",
     "output_type": "stream",
     "text": [
      "[[1 2 3]\n",
      " [4 5 6]]\n"
     ]
    }
   ],
   "source": [
    "b = np.array([[1,2,3],[4,5,6]])   # 2维数组\n",
    "print(b)\n",
    "\n",
    "print(b.shape)  #可以看形状的（非常常用！！！）                  \n",
    "print(b[0, 0], b[0, 1], b[1, 0])"
   ]
  },
  {
   "cell_type": "markdown",
   "metadata": {},
   "source": [
    "有一些内置的创建数组的函数:"
   ]
  },
  {
   "cell_type": "code",
   "execution_count": null,
   "metadata": {},
   "outputs": [],
   "source": [
    "a = np.zeros((2,2))  # 创建2x2的全0数组\n",
    "b = np.ones((1,2))   # 创建1x2的全0数组\n",
    "c = np.full((2,2), 7) # 定值数组\n",
    "d = np.eye(2)        # 对角矩阵（对角元素为1）\n",
    "e = np.random.random((2,2)) # 2x2的随机数组(矩阵)\n",
    "print(\"zeros: \\n\", a)\n",
    "print(\"ones: \\n\", b)\n",
    "print(\"full: \\n\", c)\n",
    "print(\"eye: \\n\", d)\n",
    "print(\"random: \\n\", e)\n"
   ]
  },
  {
   "cell_type": "markdown",
   "metadata": {},
   "source": [
    "### 3.2 Array indexing/数组取值"
   ]
  },
  {
   "cell_type": "markdown",
   "metadata": {},
   "source": [
    "Numpy提供了蛮多种取值的方式的."
   ]
  },
  {
   "cell_type": "markdown",
   "metadata": {},
   "source": [
    "可以像list一样切片（多维数组可以从各个维度同时切片）:"
   ]
  },
  {
   "cell_type": "code",
   "execution_count": null,
   "metadata": {},
   "outputs": [],
   "source": [
    "import numpy as np\n",
    "\n",
    "# 创建一个如下格式的3x4数组\n",
    "# [[ 1  2  3  4]\n",
    "#  [ 5  6  7  8]\n",
    "#  [ 9 10 11 12]]\n",
    "a = np.array([[1,2,3,4], [5,6,7,8], [9,10,11,12]])\n",
    "\n",
    "# 在两个维度上分别按照[:2]和[1:3]进行切片，取需要的部分\n",
    "# [[2 3]\n",
    "#  [6 7]]\n",
    "b = a[:2, 1:3]\n",
    "print(b)"
   ]
  },
  {
   "cell_type": "markdown",
   "metadata": {},
   "source": [
    "虽然，怎么说呢，不建议你这样去赋值，但是你确实可以修改切片出来的对象，然后完成对原数组的赋值."
   ]
  },
  {
   "cell_type": "code",
   "execution_count": null,
   "metadata": {},
   "outputs": [],
   "source": [
    "print(a[0, 1])  \n",
    "b[0, 0] = 77    # b[0, 0]改了，很遗憾a[0, 1]也被修改了\n",
    "print(a[0, 1]) "
   ]
  },
  {
   "cell_type": "code",
   "execution_count": null,
   "metadata": {},
   "outputs": [],
   "source": [
    "# 创建3x4的2维数组/矩阵\n",
    "a = np.array([[1,2,3,4], [5,6,7,8], [9,10,11,12]])\n",
    "print(a)"
   ]
  },
  {
   "cell_type": "markdown",
   "metadata": {},
   "source": [
    "你就放心大胆地去取你想要的数咯:"
   ]
  },
  {
   "cell_type": "code",
   "execution_count": null,
   "metadata": {},
   "outputs": [],
   "source": [
    "row_r1 = a[1, :]    # 第2行，但是得到的是1维输出（列向量）\n",
    "row_r2 = a[1:2, :]  # 1x2的2维输出\n",
    "row_r3 = a[[1], :]  # 同上\n",
    "print(row_r1, row_r1.shape) \n",
    "print(row_r2, row_r2.shape)\n",
    "print(row_r3, row_r3.shape)"
   ]
  },
  {
   "cell_type": "code",
   "execution_count": null,
   "metadata": {},
   "outputs": [],
   "source": [
    "# 试试在第2个维度上切片也一样的:\n",
    "col_r1 = a[:, 1]\n",
    "col_r2 = a[:, 1:2]\n",
    "print(col_r1, col_r1.shape)\n",
    "print(col_r2, col_r2.shape)"
   ]
  },
  {
   "cell_type": "markdown",
   "metadata": {},
   "source": [
    "下面这个高级了，更自由地取值和组合，但是要看清楚一点:"
   ]
  },
  {
   "cell_type": "code",
   "execution_count": null,
   "metadata": {},
   "outputs": [],
   "source": [
    "a = np.array([[1,2], [3, 4], [5, 6]])\n",
    "\n",
    "# 其实意思就是取(0,0),(1,1),(2,0)的元素组起来\n",
    "print(a[[0, 1, 2], [0, 1, 0]])\n",
    "\n",
    "# 下面这个比较直白啦\n",
    "print(np.array([a[0, 0], a[1, 1], a[2, 0]]))"
   ]
  },
  {
   "cell_type": "code",
   "execution_count": null,
   "metadata": {},
   "outputs": [],
   "source": [
    "# 再来试试\n",
    "print(a[[0, 0], [1, 1]])\n",
    "\n",
    "# 还是一样\n",
    "print(np.array([a[0, 1], a[0, 1]]))"
   ]
  },
  {
   "cell_type": "code",
   "execution_count": null,
   "metadata": {},
   "outputs": [],
   "source": [
    "# 再来熟悉一下\n",
    "# 先创建一个2维数组\n",
    "a = np.array([[1,2,3], [4,5,6], [7,8,9], [10, 11, 12]])\n",
    "print(a)"
   ]
  },
  {
   "cell_type": "code",
   "execution_count": null,
   "metadata": {},
   "outputs": [],
   "source": [
    "# 用下标生成一个向量\n",
    "b = np.array([0, 2, 0, 1])\n",
    "\n",
    "# 你能看明白下面做的事情吗？\n",
    "print(a[np.arange(4), b])  # Prints \"[ 1  6  7 11]\""
   ]
  },
  {
   "cell_type": "code",
   "execution_count": null,
   "metadata": {},
   "outputs": [],
   "source": [
    "# 既然可以取出来，我们当然可以对这些元素操作咯\n",
    "a[np.arange(4), b] += 10\n",
    "print a"
   ]
  },
  {
   "cell_type": "markdown",
   "metadata": {},
   "source": [
    "比较fashion的取法之一，用条件判定去取（但是很好用）:"
   ]
  },
  {
   "cell_type": "code",
   "execution_count": null,
   "metadata": {},
   "outputs": [],
   "source": [
    "import numpy as np\n",
    "\n",
    "a = np.array([[1,2], [3, 4], [5, 6]])\n",
    "\n",
    "bool_idx = (a > 2)  # 就是判定一下是否大于2\n",
    "\n",
    "print(bool_idx)  # 返回一个布尔型的3x2数组"
   ]
  },
  {
   "cell_type": "code",
   "execution_count": null,
   "metadata": {},
   "outputs": [],
   "source": [
    "# 用刚才的布尔型数组作为下标就可以去除符合条件的元素啦\n",
    "print(a[bool_idx])\n",
    "\n",
    "# 其实一句话也可以完成是不是？\n",
    "print(a[a > 2])"
   ]
  },
  {
   "cell_type": "markdown",
   "metadata": {},
   "source": [
    "其实还有很多细节，更多的用法可以看看官方文档。"
   ]
  },
  {
   "cell_type": "markdown",
   "metadata": {},
   "source": [
    "### 3.3 Datatypes"
   ]
  },
  {
   "cell_type": "markdown",
   "metadata": {},
   "source": [
    "我们可以用dtype来看numpy数组中元素的类型:"
   ]
  },
  {
   "cell_type": "code",
   "execution_count": 29,
   "metadata": {},
   "outputs": [
    {
     "name": "stdout",
     "output_type": "stream",
     "text": [
      "int64 float64 int64\n"
     ]
    }
   ],
   "source": [
    "x = np.array([1, 2])  # numpy构建数组的时候自己会确定类型\n",
    "y = np.array([1.0, 2.0])\n",
    "z = np.array([1, 2], dtype=np.int64)# 指定用int64构建\n",
    "\n",
    "print(x.dtype, y.dtype, z.dtype)"
   ]
  },
  {
   "cell_type": "markdown",
   "metadata": {},
   "source": [
    "更多的内容可以读读[文档](http://docs.scipy.org/doc/numpy/reference/arrays.dtypes.html)."
   ]
  },
  {
   "cell_type": "markdown",
   "metadata": {},
   "source": [
    "### 3.4 数学运算"
   ]
  },
  {
   "cell_type": "markdown",
   "metadata": {},
   "source": [
    "下面这些运算才是你在科学运算中经常经常会用到的，比如逐个元素的运算如下:"
   ]
  },
  {
   "cell_type": "code",
   "execution_count": 41,
   "metadata": {},
   "outputs": [
    {
     "name": "stdout",
     "output_type": "stream",
     "text": [
      "x+y\n",
      " [[ 6.  8.]\n",
      " [10. 12.]]\n",
      "x-y:\n",
      " [[-4. -4.]\n",
      " [-4. -4.]]\n",
      "x*y:\n",
      " [[ 5. 12.]\n",
      " [21. 32.]]\n",
      "x/y:\n",
      " [[0.2        0.33333333]\n",
      " [0.42857143 0.5       ]]\n",
      "sqrt(x):\n",
      " [[1.         1.41421356]\n",
      " [1.73205081 2.        ]]\n"
     ]
    }
   ],
   "source": [
    "x = np.array([[1,2],[3,4]], dtype=np.float64)\n",
    "y = np.array([[5,6],[7,8]], dtype=np.float64)\n",
    "\n",
    "# 逐元素 加、减、乘、除、求平方根\n",
    "print(\"x+y\\n\", x + y)\n",
    "print(\"x-y:\\n\", x - y)\n",
    "print(\"x*y:\\n\",x * y)\n",
    "print(\"x/y:\\n\", x / y)\n",
    "print(\"sqrt(x):\\n\", np.sqrt(x))"
   ]
  },
  {
   "cell_type": "markdown",
   "metadata": {},
   "source": [
    "那如果我要做矩阵的乘法运算怎么办！！！恩，别着急，照着下面写就可以了:"
   ]
  },
  {
   "cell_type": "code",
   "execution_count": 44,
   "metadata": {},
   "outputs": [
    {
     "name": "stdout",
     "output_type": "stream",
     "text": [
      "v.dot(w):\n",
      " 219\n",
      "np.dot(v, w):\n",
      " 219\n",
      "x.dot(y):\n",
      " [[19 22]\n",
      " [43 50]]\n",
      "np.dot(x, y):\n",
      " [[19 22]\n",
      " [43 50]]\n"
     ]
    }
   ],
   "source": [
    "x = np.array([[1,2],[3,4]])\n",
    "y = np.array([[5,6],[7,8]])\n",
    "\n",
    "v = np.array([9,10])\n",
    "w = np.array([11, 12])\n",
    "\n",
    "# 求向量内积\n",
    "print(\"v.dot(w):\\n\", v.dot(w))\n",
    "print(\"np.dot(v, w):\\n\", np.dot(v, w))\n",
    "\n",
    "# 矩阵的乘法\n",
    "print(\"x.dot(y):\\n\", x.dot(y))\n",
    "print(\"np.dot(x, y):\\n\", np.dot(x, y))"
   ]
  },
  {
   "cell_type": "markdown",
   "metadata": {},
   "source": [
    "你猜你做科学运算会最常用到的矩阵内元素的运算是什么？对啦，是求和，用 `sum`可以完成:"
   ]
  },
  {
   "cell_type": "code",
   "execution_count": 45,
   "metadata": {},
   "outputs": [
    {
     "name": "stdout",
     "output_type": "stream",
     "text": [
      "10\n",
      "[4 6]\n",
      "[3 7]\n"
     ]
    }
   ],
   "source": [
    "x = np.array([[1,2],[3,4]])\n",
    "\n",
    "print(np.sum(x))  # 数组/矩阵中所有元素求和; prints \"10\"\n",
    "print(np.sum(x, axis=0))  # 按行去求和; prints \"[4 6]\"\n",
    "print(np.sum(x, axis=1))  # 按列去求和; prints \"[3 7]\""
   ]
  },
  {
   "cell_type": "markdown",
   "metadata": {},
   "source": [
    "我想说最基本的运算就是上面这个样子，更多的运算可能得查查[文档](http://docs.scipy.org/doc/numpy/reference/routines.math.html).\n",
    "\n",
    "其实除掉基本运算，我们经常还需要做一些操作，比如矩阵的变形，转置和重排等等:"
   ]
  },
  {
   "cell_type": "code",
   "execution_count": 46,
   "metadata": {},
   "outputs": [
    {
     "name": "stdout",
     "output_type": "stream",
     "text": [
      "x: \n",
      " [[1 2]\n",
      " [3 4]]\n",
      "x.T: \n",
      " [[1 3]\n",
      " [2 4]]\n"
     ]
    }
   ],
   "source": [
    "# 转置和数学公式一直，简单粗暴\n",
    "print('x: \\n', x)\n",
    "print('x.T: \\n', x.T)"
   ]
  },
  {
   "cell_type": "code",
   "execution_count": 38,
   "metadata": {},
   "outputs": [
    {
     "name": "stdout",
     "output_type": "stream",
     "text": [
      "v: \n",
      " [1 2 3]\n",
      "v.T: \n",
      " [1 2 3]\n",
      "w: \n",
      " [[1 2 3]]\n",
      "w.T: \n",
      " [[1]\n",
      " [2]\n",
      " [3]]\n"
     ]
    }
   ],
   "source": [
    "# 需要说明一下，1维的vector转置还是自己\n",
    "v = np.array([1,2,3])\n",
    "print('v: \\n', v)\n",
    "print('v.T: \\n', v.T)\n",
    "\n",
    "# 2维的就不一样了\n",
    "w = np.array([[1,2,3]])\n",
    "print('w: \\n', w )\n",
    "print('w.T: \\n', w.T)"
   ]
  },
  {
   "cell_type": "markdown",
   "metadata": {},
   "source": [
    "### 3.5 Broadcasting"
   ]
  },
  {
   "cell_type": "markdown",
   "metadata": {},
   "source": [
    "这个没想好哪个中文词最贴切，我们暂且叫它“传播吧”:<br>\n",
    "作用是什么呢，我们设想一个场景，如果要用小的矩阵去和大的矩阵做一些操作，但是希望小矩阵能循环和大矩阵的那些块做一样的操作，那急需要Broadcasting啦"
   ]
  },
  {
   "cell_type": "code",
   "execution_count": null,
   "metadata": {},
   "outputs": [],
   "source": [
    "# 我们要做一件事情，给x的每一行都逐元素加上一个向量，然后生成y\n",
    "x = np.array([[1,2,3], [4,5,6], [7,8,9], [10, 11, 12]])\n",
    "v = np.array([1, 0, 1])\n",
    "y = np.empty_like(x)   # 生成一个和x维度一致的空数组/矩阵\n",
    "\n",
    "# 比较粗暴的方式是，用for循环逐个相加\n",
    "for i in range(4):\n",
    "    y[i, :] = x[i, :] + v\n",
    "\n",
    "print(y)"
   ]
  },
  {
   "cell_type": "markdown",
   "metadata": {},
   "source": [
    "这种方法在效率上可能会差一点。基于Numpy的broadcasting特性，其实可以更简单地实现上面的目的。"
   ]
  },
  {
   "cell_type": "code",
   "execution_count": 34,
   "metadata": {},
   "outputs": [
    {
     "name": "stdout",
     "output_type": "stream",
     "text": [
      "y:\n",
      " [[ 2  2  4]\n",
      " [ 5  5  7]\n",
      " [ 8  8 10]\n",
      " [11 11 13]]\n",
      "w:\n",
      " [[ 1  4  9]\n",
      " [16 25 36]\n",
      " [49 64 81]]\n"
     ]
    }
   ],
   "source": [
    "import numpy as np\n",
    "\n",
    "# 因为broadcasting的存在，你上面的操作可以简单地汇总成一个求和操作\n",
    "x = np.array([[1,2,3], [4,5,6], [7,8,9], [10, 11, 12]])\n",
    "v = np.array([1, 0, 1])\n",
    "y = x + v  # 对应列相加\n",
    "print('y:\\n', y)\n",
    "\n",
    "# broadcasting当然可以逐元素运算了\n",
    "w = np.array([1, 2, 3, 4, 5, 6, 7, 8, 9])\n",
    "w = w.reshape((3, 3))\n",
    "print('w:\\n',w ** 2)"
   ]
  },
  {
   "cell_type": "markdown",
   "metadata": {},
   "source": [
    "broadcasting的原理可以看看下面的图：<br>\n",
    "![](http://www.astroml.org/_images/fig_broadcast_visual_1.png)"
   ]
  },
  {
   "cell_type": "markdown",
   "metadata": {},
   "source": [
    "更多的numpy细节和用法可以查看一下官网[numpy指南](http://docs.scipy.org/doc/numpy/reference/)"
   ]
  },
  {
   "cell_type": "markdown",
   "metadata": {},
   "source": [
    "## 4 Python绘图基础"
   ]
  },
  {
   "cell_type": "markdown",
   "metadata": {},
   "source": [
    "### 4.1 Matplotlib画图库\n",
    "下面一段代码涵盖了Matplotlib画图的基本要素："
   ]
  },
  {
   "cell_type": "code",
   "execution_count": 78,
   "metadata": {},
   "outputs": [
    {
     "data": {
      "image/png": "[encoded data removed]",
      "text/plain": [
       "<Figure size 600x450 with 1 Axes>"
      ]
     },
     "metadata": {
      "needs_background": "light"
     },
     "output_type": "display_data"
    }
   ],
   "source": [
    "import numpy as np\n",
    "import matplotlib.pyplot as plt\n",
    "%matplotlib inline\n",
    "\n",
    "x = np.linspace(0,10, 500) # 从[0, 10]等间隔抽取100个点（包含0和10）\n",
    "\n",
    "y1 = np.sin(5*np.pi*x) * np.exp(-x)\n",
    "y2, y3 = np.exp(-x), -np.exp(-x)\n",
    "\n",
    "plt.figure(figsize=(4, 3), dpi=150) # 设置图像大小和分辨率（分辨率在保存像素图的时候有用）\n",
    "\n",
    "plt.plot(x, y1, color='b', linewidth=1) # 画几条曲线\n",
    "plt.plot(x, y2, color='r', linewidth=1)\n",
    "plt.plot(x, y3, color='g', linewidth=1)\n",
    "\n",
    "plt.fill_between(x, y1, y2, facecolor='r', alpha=0.3)  # 填充部分区域\n",
    "plt.fill_between(x, y3, y1, facecolor='g', alpha=0.3)\n",
    "\n",
    "plt.xlabel(r'$x$')  # 横轴标签\n",
    "plt.ylabel(r'$y$')# 纵轴标签\n",
    "plt.legend([r'$y=\\sin(x)e^{-x}$',r'$y=e^{-x}$',r'$y=-e^{-x}$']) # 设置图例\n",
    "plt.grid(True) # 显示网格\n",
    "plt.show()"
   ]
  },
  {
   "cell_type": "markdown",
   "metadata": {},
   "source": [
    "### 4.2 Seaborn画图库\n",
    "不多说，直接看代码吧："
   ]
  },
  {
   "cell_type": "code",
   "execution_count": null,
   "metadata": {},
   "outputs": [],
   "source": [
    "import numpy as np\n",
    "import seanborn as sns\n",
    "import matplotlib.pyplot as plt\n",
    "%matplotlib inline\n",
    "\n",
    "x = np.linspace(0,10, 500) # 从[0, 10]等间隔抽取100个点（包含0和10）\n",
    "\n",
    "y1 = np.sin(5*np.pi*x) * np.exp(-x)\n",
    "y2, y3 = np.exp(-x), -np.exp(-x)\n",
    "\n",
    "plt.figure(figsize=(4, 3), dpi=150) # 设置图像大小和分辨率（分辨率在保存像素图的时候有用）\n",
    "\n",
    "plt.plot(x, y1, color='b', linewidth=1) # 画几条曲线\n",
    "plt.plot(x, y2, color='r', linewidth=1)\n",
    "plt.plot(x, y3, color='g', linewidth=1)\n",
    "\n",
    "plt.fill_between(x, y1, y2, facecolor='r', alpha=0.3)  # 填充部分区域\n",
    "plt.fill_between(x, y3, y1, facecolor='g', alpha=0.3)\n",
    "\n",
    "plt.xlabel(r'$x$')  # 横轴标签\n",
    "plt.ylabel(r'$y$')# 纵轴标签\n",
    "plt.legend([r'$y=\\sin(x)e^{-x}$',r'$y=e^{-x}$',r'$y=-e^{-x}$']) # 设置图例\n",
    "plt.grid(True) # 显示网格\n",
    "plt.show()"
   ]
  }
 ],
 "metadata": {
  "kernelspec": {
   "display_name": "Python 3 (ipykernel)",
   "language": "python",
   "name": "python3"
  },
  "language_info": {
   "codemirror_mode": {
    "name": "ipython",
    "version": 3
   },
   "file_extension": ".py",
   "mimetype": "text/x-python",
   "name": "python",
   "nbconvert_exporter": "python",
   "pygments_lexer": "ipython3",
   "version": "3.9.1"
  }
 },
 "nbformat": 4,
 "nbformat_minor": 1
}
